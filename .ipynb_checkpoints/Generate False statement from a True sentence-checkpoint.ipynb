{
 "cells": [
  {
   "cell_type": "code",
   "execution_count": 1,
   "metadata": {
    "colab": {
     "base_uri": "https://localhost:8080/"
    },
    "executionInfo": {
     "elapsed": 24969,
     "status": "ok",
     "timestamp": 1628742683241,
     "user": {
      "displayName": "vaibhav jain",
      "photoUrl": "https://lh3.googleusercontent.com/a-/AOh14GhSP5J3fJaQeVdV5xZOO9uhc6aAygwDpQ1yP225vQ=s64",
      "userId": "17404705073767048400"
     },
     "user_tz": -330
    },
    "id": "ROE4Aw2xQauM",
    "outputId": "3fd80c67-9972-4ea4-8cb9-06fa1b24064c"
   },
   "outputs": [
    {
     "name": "stdout",
     "output_type": "stream",
     "text": [
      "Mounted at /content/gdrive\n"
     ]
    }
   ],
   "source": [
    "from google.colab import drive\n",
    "drive.mount('/content/gdrive')"
   ]
  },
  {
   "cell_type": "code",
   "execution_count": 2,
   "metadata": {
    "colab": {
     "base_uri": "https://localhost:8080/"
    },
    "executionInfo": {
     "elapsed": 524,
     "status": "ok",
     "timestamp": 1628742688878,
     "user": {
      "displayName": "vaibhav jain",
      "photoUrl": "https://lh3.googleusercontent.com/a-/AOh14GhSP5J3fJaQeVdV5xZOO9uhc6aAygwDpQ1yP225vQ=s64",
      "userId": "17404705073767048400"
     },
     "user_tz": -330
    },
    "id": "UrN72TKwQhyk",
    "outputId": "3a55d6cb-62ad-4fec-d1d6-44852cfdfe8e"
   },
   "outputs": [
    {
     "name": "stdout",
     "output_type": "stream",
     "text": [
      "/content/gdrive/MyDrive/Question Generation\n"
     ]
    }
   ],
   "source": [
    "%cd '/content/gdrive/MyDrive/Question Generation'"
   ]
  },
  {
   "cell_type": "code",
   "execution_count": 3,
   "metadata": {
    "executionInfo": {
     "elapsed": 4,
     "status": "ok",
     "timestamp": 1628742690919,
     "user": {
      "displayName": "vaibhav jain",
      "photoUrl": "https://lh3.googleusercontent.com/a-/AOh14GhSP5J3fJaQeVdV5xZOO9uhc6aAygwDpQ1yP225vQ=s64",
      "userId": "17404705073767048400"
     },
     "user_tz": -330
    },
    "id": "SUlvr-IkVKPT"
   },
   "outputs": [],
   "source": [
    "import warnings\n",
    "warnings.filterwarnings('ignore')"
   ]
  },
  {
   "cell_type": "markdown",
   "metadata": {
    "id": "fthcBRdlQq36"
   },
   "source": [
    "## Constituency parsing to find last verb or noun phrase"
   ]
  },
  {
   "cell_type": "code",
   "execution_count": 4,
   "metadata": {
    "colab": {
     "base_uri": "https://localhost:8080/"
    },
    "executionInfo": {
     "elapsed": 9924,
     "status": "ok",
     "timestamp": 1628742703714,
     "user": {
      "displayName": "vaibhav jain",
      "photoUrl": "https://lh3.googleusercontent.com/a-/AOh14GhSP5J3fJaQeVdV5xZOO9uhc6aAygwDpQ1yP225vQ=s64",
      "userId": "17404705073767048400"
     },
     "user_tz": -330
    },
    "id": "S2VM6hvQS91C",
    "outputId": "e4afb225-5515-4a7f-b04c-e6ffa2d5bec9"
   },
   "outputs": [
    {
     "name": "stdout",
     "output_type": "stream",
     "text": [
      "\u001b[K     |████████████████████████████████| 3.3 MB 31.3 MB/s \n",
      "\u001b[K     |████████████████████████████████| 2.6 MB 45.0 MB/s \n",
      "\u001b[K     |████████████████████████████████| 1.2 MB 44.0 MB/s \n",
      "\u001b[K     |████████████████████████████████| 636 kB 56.8 MB/s \n",
      "\u001b[K     |████████████████████████████████| 895 kB 78.5 MB/s \n",
      "\u001b[?25h  Building wheel for benepar (setup.py) ... \u001b[?25l\u001b[?25hdone\n"
     ]
    }
   ],
   "source": [
    "!pip install --quiet benepar"
   ]
  },
  {
   "cell_type": "code",
   "execution_count": 5,
   "metadata": {
    "colab": {
     "base_uri": "https://localhost:8080/"
    },
    "executionInfo": {
     "elapsed": 11297,
     "status": "ok",
     "timestamp": 1628742747012,
     "user": {
      "displayName": "vaibhav jain",
      "photoUrl": "https://lh3.googleusercontent.com/a-/AOh14GhSP5J3fJaQeVdV5xZOO9uhc6aAygwDpQ1yP225vQ=s64",
      "userId": "17404705073767048400"
     },
     "user_tz": -330
    },
    "id": "3RpM-TjvTJPl",
    "outputId": "329e1e73-41cb-4f35-881a-280219329ee8"
   },
   "outputs": [
    {
     "name": "stdout",
     "output_type": "stream",
     "text": [
      "[nltk_data] Downloading package benepar_en3 to /root/nltk_data...\n",
      "[nltk_data]   Unzipping models/benepar_en3.zip.\n"
     ]
    },
    {
     "data": {
      "text/plain": [
       "True"
      ]
     },
     "execution_count": 5,
     "metadata": {
      "tags": []
     },
     "output_type": "execute_result"
    }
   ],
   "source": [
    "import benepar\n",
    "benepar.download('benepar_en3')"
   ]
  },
  {
   "cell_type": "code",
   "execution_count": 6,
   "metadata": {
    "colab": {
     "base_uri": "https://localhost:8080/"
    },
    "executionInfo": {
     "elapsed": 5769,
     "status": "ok",
     "timestamp": 1628742953319,
     "user": {
      "displayName": "vaibhav jain",
      "photoUrl": "https://lh3.googleusercontent.com/a-/AOh14GhSP5J3fJaQeVdV5xZOO9uhc6aAygwDpQ1yP225vQ=s64",
      "userId": "17404705073767048400"
     },
     "user_tz": -330
    },
    "id": "N-36HQgvTJap",
    "outputId": "e55a2c42-f35e-4aa3-f9bc-a6383229c89d"
   },
   "outputs": [
    {
     "name": "stdout",
     "output_type": "stream",
     "text": [
      "(S (NP (NP (DT The) (NN owner)) (PP (IN of) (NP (DT the) (NN house)))) (VP (VBD was) (VP (VBG playing) (NP (NN cricket)))))\n"
     ]
    }
   ],
   "source": [
    "from benepar.spacy_plugin import BeneparComponent\n",
    "import spacy\n",
    "# Loading spaCy’s en model and adding benepar model to its pipeline\n",
    "nlp = spacy.load('en')\n",
    "nlp.add_pipe(BeneparComponent('benepar_en3'))\n",
    "\n",
    "text='The owner of the house was playing cricket.'\n",
    "test_sent = text.rstrip('?:!.,;')\n",
    "\n",
    "# Generating a parse tree for the text\n",
    "tree_string = list(nlp(test_sent).sents)[0]._.parse_string\n",
    "print(tree_string)"
   ]
  },
  {
   "cell_type": "code",
   "execution_count": 7,
   "metadata": {
    "colab": {
     "base_uri": "https://localhost:8080/"
    },
    "executionInfo": {
     "elapsed": 643,
     "status": "ok",
     "timestamp": 1628742971559,
     "user": {
      "displayName": "vaibhav jain",
      "photoUrl": "https://lh3.googleusercontent.com/a-/AOh14GhSP5J3fJaQeVdV5xZOO9uhc6aAygwDpQ1yP225vQ=s64",
      "userId": "17404705073767048400"
     },
     "user_tz": -330
    },
    "id": "hKlKzIwyU9hD",
    "outputId": "3fb3321e-53c1-4aaa-e7c5-c3ce26a5dd64"
   },
   "outputs": [
    {
     "name": "stdout",
     "output_type": "stream",
     "text": [
      "(S\n",
      "  (NP (NP (DT The) (NN owner)) (PP (IN of) (NP (DT the) (NN house))))\n",
      "  (VP (VBD was) (VP (VBG playing) (NP (NN cricket)))))\n",
      "                   S                                   \n",
      "                ___|___________________                 \n",
      "               NP                      VP              \n",
      "      _________|___               _____|_____           \n",
      "     |             PP            |           VP        \n",
      "     |          ___|___          |      _____|_____     \n",
      "     NP        |       NP        |     |           NP  \n",
      "  ___|____     |    ___|____     |     |           |    \n",
      " DT       NN   IN  DT       NN  VBD   VBG          NN  \n",
      " |        |    |   |        |    |     |           |    \n",
      "The     owner  of the     house was playing     cricket\n",
      "\n",
      "None\n"
     ]
    }
   ],
   "source": [
    "from nltk import tokenize\n",
    "from nltk.tree import Tree\n",
    "\n",
    "tree = Tree.fromstring(tree_string)\n",
    "print(tree)\n",
    "print(tree.pretty_print())"
   ]
  },
  {
   "cell_type": "code",
   "execution_count": 8,
   "metadata": {
    "colab": {
     "base_uri": "https://localhost:8080/"
    },
    "executionInfo": {
     "elapsed": 639,
     "status": "ok",
     "timestamp": 1628742981796,
     "user": {
      "displayName": "vaibhav jain",
      "photoUrl": "https://lh3.googleusercontent.com/a-/AOh14GhSP5J3fJaQeVdV5xZOO9uhc6aAygwDpQ1yP225vQ=s64",
      "userId": "17404705073767048400"
     },
     "user_tz": -330
    },
    "id": "5M8l_EQ_WmVq",
    "outputId": "15a0c914-5fb3-42c3-b819-743e62d8eb71"
   },
   "outputs": [
    {
     "name": "stdout",
     "output_type": "stream",
     "text": [
      "               NP              \n",
      "      _________|___             \n",
      "     |             PP          \n",
      "     |          ___|___         \n",
      "     NP        |       NP      \n",
      "  ___|____     |    ___|____    \n",
      " DT       NN   IN  DT       NN \n",
      " |        |    |   |        |   \n",
      "The     owner  of the     house\n",
      "\n",
      "       VP              \n",
      "  _____|_____           \n",
      " |           VP        \n",
      " |      _____|_____     \n",
      " |     |           NP  \n",
      " |     |           |    \n",
      "VBD   VBG          NN  \n",
      " |     |           |    \n",
      "was playing     cricket\n",
      "\n"
     ]
    }
   ],
   "source": [
    "# access left and right child\n",
    "tree[0].pretty_print()\n",
    "tree[1].pretty_print() "
   ]
  },
  {
   "cell_type": "markdown",
   "metadata": {
    "id": "cwSF7nPCX3H8"
   },
   "source": [
    "## Extracting the last verb or noun phrase using tree string"
   ]
  },
  {
   "cell_type": "code",
   "execution_count": 9,
   "metadata": {
    "colab": {
     "base_uri": "https://localhost:8080/",
     "height": 35
    },
    "executionInfo": {
     "elapsed": 502,
     "status": "ok",
     "timestamp": 1628742987279,
     "user": {
      "displayName": "vaibhav jain",
      "photoUrl": "https://lh3.googleusercontent.com/a-/AOh14GhSP5J3fJaQeVdV5xZOO9uhc6aAygwDpQ1yP225vQ=s64",
      "userId": "17404705073767048400"
     },
     "user_tz": -330
    },
    "id": "h3qmsg7EZPDj",
    "outputId": "7b7b290e-221c-463c-84c7-d29ce2e25b7c"
   },
   "outputs": [
    {
     "data": {
      "application/vnd.google.colaboratory.intrinsic+json": {
       "type": "string"
      },
      "text/plain": [
       "'(S (NP (NP (DT The) (NN owner)) (PP (IN of) (NP (DT the) (NN house)))) (VP (VBD was) (VP (VBG playing) (NP (NN cricket)))))'"
      ]
     },
     "execution_count": 9,
     "metadata": {
      "tags": []
     },
     "output_type": "execute_result"
    }
   ],
   "source": [
    "tree_string"
   ]
  },
  {
   "cell_type": "code",
   "execution_count": 10,
   "metadata": {
    "executionInfo": {
     "elapsed": 790,
     "status": "ok",
     "timestamp": 1628742996628,
     "user": {
      "displayName": "vaibhav jain",
      "photoUrl": "https://lh3.googleusercontent.com/a-/AOh14GhSP5J3fJaQeVdV5xZOO9uhc6aAygwDpQ1yP225vQ=s64",
      "userId": "17404705073767048400"
     },
     "user_tz": -330
    },
    "id": "zWgLEzkpbdri"
   },
   "outputs": [],
   "source": [
    "# EXTRACT LAST VERB PHRASE FROM TREE STRING\n",
    "def verbphrase(tree_string):\n",
    "  split_text = tree_string.split('VP')[-1]\n",
    "  string = ''\n",
    "  for ch in split_text:\n",
    "    if(not ch.isupper() and ch != '(' and ch != ')'):\n",
    "      string = string + ch\n",
    "  res = \" \".join(string.split())\n",
    "  return res"
   ]
  },
  {
   "cell_type": "code",
   "execution_count": 11,
   "metadata": {
    "executionInfo": {
     "elapsed": 2,
     "status": "ok",
     "timestamp": 1628742999015,
     "user": {
      "displayName": "vaibhav jain",
      "photoUrl": "https://lh3.googleusercontent.com/a-/AOh14GhSP5J3fJaQeVdV5xZOO9uhc6aAygwDpQ1yP225vQ=s64",
      "userId": "17404705073767048400"
     },
     "user_tz": -330
    },
    "id": "56vuOtXBfV3I"
   },
   "outputs": [],
   "source": [
    "# EXTRACT LAST NOUN PHRASE FROM TREE STRING\n",
    "def nounphrase(tree_string):\n",
    "  split_text = tree_string.split('NP')[-1]\n",
    "  string = ''\n",
    "  for ch in split_text:\n",
    "    if(not ch.isupper() and ch != '(' and ch != ')'):\n",
    "      string = string + ch\n",
    "  res = \" \".join(string.split())\n",
    "  return res"
   ]
  },
  {
   "cell_type": "markdown",
   "metadata": {
    "id": "LZDjSdVUgP47"
   },
   "source": [
    "## Spliting the original sentence at last verb or noun phrase depending upon the length of phrase."
   ]
  },
  {
   "cell_type": "markdown",
   "metadata": {
    "id": "xceC84EjM64P"
   },
   "source": [
    "We decide between using noun and verb phrase by looking at their lenghts. As removal of longer phrase will result in generated sentence being too far from original sentence"
   ]
  },
  {
   "cell_type": "code",
   "execution_count": 12,
   "metadata": {
    "executionInfo": {
     "elapsed": 778,
     "status": "ok",
     "timestamp": 1628743024682,
     "user": {
      "displayName": "vaibhav jain",
      "photoUrl": "https://lh3.googleusercontent.com/a-/AOh14GhSP5J3fJaQeVdV5xZOO9uhc6aAygwDpQ1yP225vQ=s64",
      "userId": "17404705073767048400"
     },
     "user_tz": -330
    },
    "id": "MrufvRzahAfL"
   },
   "outputs": [],
   "source": [
    "np = nounphrase(tree_string)\n",
    "vp = verbphrase(tree_string)\n",
    "sent_to_gpt = ''\n",
    "if(len(vp) > len(np)):\n",
    "  sent_to_gpt = vp\n",
    "else:\n",
    "  sent_to_gpt = np\n",
    "sent_to_gpt = text.split(sent_to_gpt)[0]"
   ]
  },
  {
   "cell_type": "code",
   "execution_count": 13,
   "metadata": {
    "colab": {
     "base_uri": "https://localhost:8080/",
     "height": 35
    },
    "executionInfo": {
     "elapsed": 4,
     "status": "ok",
     "timestamp": 1628743026595,
     "user": {
      "displayName": "vaibhav jain",
      "photoUrl": "https://lh3.googleusercontent.com/a-/AOh14GhSP5J3fJaQeVdV5xZOO9uhc6aAygwDpQ1yP225vQ=s64",
      "userId": "17404705073767048400"
     },
     "user_tz": -330
    },
    "id": "VuRPGXIwhm_Y",
    "outputId": "6e715aad-5422-467d-fc76-024182594d90"
   },
   "outputs": [
    {
     "data": {
      "application/vnd.google.colaboratory.intrinsic+json": {
       "type": "string"
      },
      "text/plain": [
       "'The owner of the house was '"
      ]
     },
     "execution_count": 13,
     "metadata": {
      "tags": []
     },
     "output_type": "execute_result"
    }
   ],
   "source": [
    "sent_to_gpt"
   ]
  },
  {
   "cell_type": "markdown",
   "metadata": {
    "id": "ShvCuci3QuiD"
   },
   "source": [
    "## Generate false statements of the sentence using GPT-2"
   ]
  },
  {
   "cell_type": "code",
   "execution_count": 19,
   "metadata": {
    "executionInfo": {
     "elapsed": 3749,
     "status": "ok",
     "timestamp": 1628743258007,
     "user": {
      "displayName": "vaibhav jain",
      "photoUrl": "https://lh3.googleusercontent.com/a-/AOh14GhSP5J3fJaQeVdV5xZOO9uhc6aAygwDpQ1yP225vQ=s64",
      "userId": "17404705073767048400"
     },
     "user_tz": -330
    },
    "id": "-hJXiXohmrP4"
   },
   "outputs": [],
   "source": [
    "!pip install --quiet transformers==4.2.2"
   ]
  },
  {
   "cell_type": "code",
   "execution_count": 15,
   "metadata": {
    "colab": {
     "base_uri": "https://localhost:8080/",
     "height": 328,
     "referenced_widgets": [
      "62492089fdef4505beb0d5e4c6224af5",
      "ae6450b88aa44364864eeaebd5a54503",
      "454ea507163b4c12b49424a056964162",
      "225e5415dfd14d1098b2e71ff77d0980",
      "0d14a1a1bf014a38a9038f87d3c0924c",
      "0ca6b21ac1654e348a4d25c373bbcc07",
      "732d18c0d2744b2c9588f97d64a13d8d",
      "61834cc3f56040389fb9f36944398962",
      "ebcd7cab16614cc488651f4164fd70a8",
      "b281ad054f8949fa8b5de36a31862356",
      "dc27f67a6a8744118924462867444ef2",
      "06455e2e413b40d4be960bd755cdfaa0",
      "53c0a8e4a55847a8881c1eacaa4722d0",
      "d7451dc56f364b4f927f242ccfe0e91b",
      "a1a1b6edd7ac456f99d18c3be274b423",
      "6ae2aea27d56418e9499832a5eb1d633",
      "c16bae0abb074c519323da6336d96025",
      "e8de0b2c41d34e58bcdd4243e8b6f9be",
      "0c23b64bc55a421da5fb09ea3b67e53b",
      "594e8e93ef9d4b9397d229c6c40dfd81",
      "8e98b7dfa0c8434981aa267b6a3bf3ae",
      "fb2d8cc778484fdca1bb51aa2a4900bd",
      "dab1c1b961aa42fd9d69edfecb274f2f",
      "634e6267ba934ff3bf2f323dcbc7d800",
      "8555a556285847ca949b0be4ee2dbf4d",
      "499c277b324e4e0ba98634d497f4df06",
      "6ee473cd829949ba8047a0f75d3153f4",
      "628a07bdb96547f1b1ce9d221e785c40",
      "c1845b172bc349cea78028725ed19252",
      "575aa22243174e779c71aa28b9bac74d",
      "332cca52b4f04189a4cb523f08e16ed3",
      "97d5f1043cbd44cc9bf2d1658e25651e",
      "61427190c8864c3b9548097be44d7585",
      "58443f9c78fe4a1e85aedc2ddc653fad",
      "f8b9f2d7a4c745a79655751a3fdc239e",
      "67b9abc9043242d4ac94aceb7ecdeff9",
      "9f05cfbf37e743de96db9aecbb63e35c",
      "ad7768b0e25e4398951b592fff793600",
      "801e50b70aa34233930d00a4e9c37981",
      "91a80c2167ed476c964777706db16a88"
     ]
    },
    "executionInfo": {
     "elapsed": 26599,
     "status": "ok",
     "timestamp": 1628743213984,
     "user": {
      "displayName": "vaibhav jain",
      "photoUrl": "https://lh3.googleusercontent.com/a-/AOh14GhSP5J3fJaQeVdV5xZOO9uhc6aAygwDpQ1yP225vQ=s64",
      "userId": "17404705073767048400"
     },
     "user_tz": -330
    },
    "id": "KBCLslyCmeq0",
    "outputId": "1c69cf82-2882-4851-cd8d-d2c25e7e3598"
   },
   "outputs": [
    {
     "data": {
      "application/vnd.jupyter.widget-view+json": {
       "model_id": "62492089fdef4505beb0d5e4c6224af5",
       "version_major": 2,
       "version_minor": 0
      },
      "text/plain": [
       "HBox(children=(FloatProgress(value=0.0, description='Downloading', max=1042301.0, style=ProgressStyle(descript…"
      ]
     },
     "metadata": {
      "tags": []
     },
     "output_type": "display_data"
    },
    {
     "name": "stdout",
     "output_type": "stream",
     "text": [
      "\n"
     ]
    },
    {
     "data": {
      "application/vnd.jupyter.widget-view+json": {
       "model_id": "ebcd7cab16614cc488651f4164fd70a8",
       "version_major": 2,
       "version_minor": 0
      },
      "text/plain": [
       "HBox(children=(FloatProgress(value=0.0, description='Downloading', max=456318.0, style=ProgressStyle(descripti…"
      ]
     },
     "metadata": {
      "tags": []
     },
     "output_type": "display_data"
    },
    {
     "name": "stdout",
     "output_type": "stream",
     "text": [
      "\n"
     ]
    },
    {
     "data": {
      "application/vnd.jupyter.widget-view+json": {
       "model_id": "c16bae0abb074c519323da6336d96025",
       "version_major": 2,
       "version_minor": 0
      },
      "text/plain": [
       "HBox(children=(FloatProgress(value=0.0, description='Downloading', max=1355256.0, style=ProgressStyle(descript…"
      ]
     },
     "metadata": {
      "tags": []
     },
     "output_type": "display_data"
    },
    {
     "name": "stdout",
     "output_type": "stream",
     "text": [
      "\n"
     ]
    },
    {
     "data": {
      "application/vnd.jupyter.widget-view+json": {
       "model_id": "8555a556285847ca949b0be4ee2dbf4d",
       "version_major": 2,
       "version_minor": 0
      },
      "text/plain": [
       "HBox(children=(FloatProgress(value=0.0, description='Downloading', max=665.0, style=ProgressStyle(description_…"
      ]
     },
     "metadata": {
      "tags": []
     },
     "output_type": "display_data"
    },
    {
     "name": "stdout",
     "output_type": "stream",
     "text": [
      "\n"
     ]
    },
    {
     "data": {
      "application/vnd.jupyter.widget-view+json": {
       "model_id": "61427190c8864c3b9548097be44d7585",
       "version_major": 2,
       "version_minor": 0
      },
      "text/plain": [
       "HBox(children=(FloatProgress(value=0.0, description='Downloading', max=497933648.0, style=ProgressStyle(descri…"
      ]
     },
     "metadata": {
      "tags": []
     },
     "output_type": "display_data"
    },
    {
     "name": "stdout",
     "output_type": "stream",
     "text": [
      "\n"
     ]
    },
    {
     "name": "stderr",
     "output_type": "stream",
     "text": [
      "All model checkpoint layers were used when initializing TFGPT2LMHeadModel.\n",
      "\n",
      "All the layers of TFGPT2LMHeadModel were initialized from the model checkpoint at gpt2.\n",
      "If your task is similar to the task the model of the checkpoint was trained on, you can already use TFGPT2LMHeadModel for predictions without further training.\n"
     ]
    }
   ],
   "source": [
    "import tensorflow as tf\n",
    "from transformers import TFGPT2LMHeadModel, GPT2Tokenizer\n",
    "\n",
    "GPT2tokenizer = GPT2Tokenizer.from_pretrained(\"gpt2\")\n",
    "GPT2model = TFGPT2LMHeadModel.from_pretrained(\"gpt2\",pad_token_id=GPT2tokenizer.eos_token_id)\n"
   ]
  },
  {
   "cell_type": "code",
   "execution_count": 16,
   "metadata": {
    "colab": {
     "base_uri": "https://localhost:8080/"
    },
    "executionInfo": {
     "elapsed": 962,
     "status": "ok",
     "timestamp": 1628743221478,
     "user": {
      "displayName": "vaibhav jain",
      "photoUrl": "https://lh3.googleusercontent.com/a-/AOh14GhSP5J3fJaQeVdV5xZOO9uhc6aAygwDpQ1yP225vQ=s64",
      "userId": "17404705073767048400"
     },
     "user_tz": -330
    },
    "id": "t7j7m_Hnn21k",
    "outputId": "fec77398-78c6-4020-8df9-159a1290cf7b"
   },
   "outputs": [
    {
     "name": "stdout",
     "output_type": "stream",
     "text": [
      "tf.Tensor([[ 464 4870  286  262 2156  373  220]], shape=(1, 7), dtype=int32)\n"
     ]
    }
   ],
   "source": [
    "partial_sentence = sent_to_gpt\n",
    "input_ids = GPT2tokenizer.encode(partial_sentence,return_tensors='tf')\n",
    "print (input_ids)\n",
    "maximum_length = len(partial_sentence.split())+20"
   ]
  },
  {
   "cell_type": "markdown",
   "metadata": {
    "id": "YYiYJvIhr67S"
   },
   "source": [
    "https://huggingface.co/blog/how-to-generate"
   ]
  },
  {
   "cell_type": "code",
   "execution_count": 17,
   "metadata": {
    "executionInfo": {
     "elapsed": 12694,
     "status": "ok",
     "timestamp": 1628743236085,
     "user": {
      "displayName": "vaibhav jain",
      "photoUrl": "https://lh3.googleusercontent.com/a-/AOh14GhSP5J3fJaQeVdV5xZOO9uhc6aAygwDpQ1yP225vQ=s64",
      "userId": "17404705073767048400"
     },
     "user_tz": -330
    },
    "id": "YrxCnYE9obfy"
   },
   "outputs": [],
   "source": [
    "# Activate top_k sampling and top_p sampling with only from 90% most likely words\n",
    "sample_outputs = GPT2model.generate(\n",
    "    input_ids, \n",
    "    do_sample=True, \n",
    "    max_length=maximum_length, \n",
    "    top_p=0.80,  \n",
    "    top_k=60,  \n",
    "    repetition_penalty  = 10.0,\n",
    "    num_return_sequences=5\n",
    ")"
   ]
  },
  {
   "cell_type": "code",
   "execution_count": 18,
   "metadata": {
    "colab": {
     "base_uri": "https://localhost:8080/"
    },
    "executionInfo": {
     "elapsed": 1480,
     "status": "ok",
     "timestamp": 1628743240362,
     "user": {
      "displayName": "vaibhav jain",
      "photoUrl": "https://lh3.googleusercontent.com/a-/AOh14GhSP5J3fJaQeVdV5xZOO9uhc6aAygwDpQ1yP225vQ=s64",
      "userId": "17404705073767048400"
     },
     "user_tz": -330
    },
    "id": "xt8mx1FTo1QN",
    "outputId": "e3321f40-2698-4fd0-da52-1b15a1baad23"
   },
   "outputs": [
    {
     "name": "stdout",
     "output_type": "stream",
     "text": [
      "[nltk_data] Downloading package punkt to /root/nltk_data...\n",
      "[nltk_data]   Unzipping tokenizers/punkt.zip.\n",
      "0 :  The owner of the house was  the one who bought it and he's now asking for $500,000.\n",
      "1 :  The owner of the house was  in possession, and in his place were two young children who had been shot to death by\n",
      "2 :  The owner of the house was iced up.\n",
      "3 :  The owner of the house was iced tea by a friend who had made him drink and then his wife took it to them.\n",
      "4 :  The owner of the house was  unaware that he would have to remove his belongings after being evacuated.\n"
     ]
    }
   ],
   "source": [
    "import nltk\n",
    "nltk.download('punkt')\n",
    "generated_sentences=[]\n",
    "\n",
    "for i, sample_output in enumerate(sample_outputs):\n",
    "    decoded_sentence = GPT2tokenizer.decode(sample_output, skip_special_tokens=True)\n",
    "    final_sentence = tokenize.sent_tokenize(decoded_sentence)[0]\n",
    "    generated_sentences.append(final_sentence)\n",
    "    print (i,\": \",final_sentence)"
   ]
  },
  {
   "cell_type": "code",
   "execution_count": null,
   "metadata": {
    "id": "gWFJsKvwm-X4"
   },
   "outputs": [],
   "source": []
  }
 ],
 "metadata": {
  "colab": {
   "collapsed_sections": [],
   "name": "Generate False statement from a True sentence.ipynb",
   "provenance": []
  },
  "kernelspec": {
   "display_name": "Python 3 (ipykernel)",
   "language": "python",
   "name": "python3"
  },
  "language_info": {
   "codemirror_mode": {
    "name": "ipython",
    "version": 3
   },
   "file_extension": ".py",
   "mimetype": "text/x-python",
   "name": "python",
   "nbconvert_exporter": "python",
   "pygments_lexer": "ipython3",
   "version": "3.8.5"
  },
  "widgets": {
   "application/vnd.jupyter.widget-state+json": {
    "06455e2e413b40d4be960bd755cdfaa0": {
     "model_module": "@jupyter-widgets/controls",
     "model_module_version": "1.5.0",
     "model_name": "HTMLModel",
     "state": {
      "_dom_classes": [],
      "_model_module": "@jupyter-widgets/controls",
      "_model_module_version": "1.5.0",
      "_model_name": "HTMLModel",
      "_view_count": null,
      "_view_module": "@jupyter-widgets/controls",
      "_view_module_version": "1.5.0",
      "_view_name": "HTMLView",
      "description": "",
      "description_tooltip": null,
      "layout": "IPY_MODEL_6ae2aea27d56418e9499832a5eb1d633",
      "placeholder": "​",
      "style": "IPY_MODEL_a1a1b6edd7ac456f99d18c3be274b423",
      "value": " 456k/456k [00:01&lt;00:00, 232kB/s]"
     }
    },
    "0c23b64bc55a421da5fb09ea3b67e53b": {
     "model_module": "@jupyter-widgets/controls",
     "model_module_version": "1.5.0",
     "model_name": "FloatProgressModel",
     "state": {
      "_dom_classes": [],
      "_model_module": "@jupyter-widgets/controls",
      "_model_module_version": "1.5.0",
      "_model_name": "FloatProgressModel",
      "_view_count": null,
      "_view_module": "@jupyter-widgets/controls",
      "_view_module_version": "1.5.0",
      "_view_name": "ProgressView",
      "bar_style": "success",
      "description": "Downloading: 100%",
      "description_tooltip": null,
      "layout": "IPY_MODEL_fb2d8cc778484fdca1bb51aa2a4900bd",
      "max": 1355256,
      "min": 0,
      "orientation": "horizontal",
      "style": "IPY_MODEL_8e98b7dfa0c8434981aa267b6a3bf3ae",
      "value": 1355256
     }
    },
    "0ca6b21ac1654e348a4d25c373bbcc07": {
     "model_module": "@jupyter-widgets/base",
     "model_module_version": "1.2.0",
     "model_name": "LayoutModel",
     "state": {
      "_model_module": "@jupyter-widgets/base",
      "_model_module_version": "1.2.0",
      "_model_name": "LayoutModel",
      "_view_count": null,
      "_view_module": "@jupyter-widgets/base",
      "_view_module_version": "1.2.0",
      "_view_name": "LayoutView",
      "align_content": null,
      "align_items": null,
      "align_self": null,
      "border": null,
      "bottom": null,
      "display": null,
      "flex": null,
      "flex_flow": null,
      "grid_area": null,
      "grid_auto_columns": null,
      "grid_auto_flow": null,
      "grid_auto_rows": null,
      "grid_column": null,
      "grid_gap": null,
      "grid_row": null,
      "grid_template_areas": null,
      "grid_template_columns": null,
      "grid_template_rows": null,
      "height": null,
      "justify_content": null,
      "justify_items": null,
      "left": null,
      "margin": null,
      "max_height": null,
      "max_width": null,
      "min_height": null,
      "min_width": null,
      "object_fit": null,
      "object_position": null,
      "order": null,
      "overflow": null,
      "overflow_x": null,
      "overflow_y": null,
      "padding": null,
      "right": null,
      "top": null,
      "visibility": null,
      "width": null
     }
    },
    "0d14a1a1bf014a38a9038f87d3c0924c": {
     "model_module": "@jupyter-widgets/controls",
     "model_module_version": "1.5.0",
     "model_name": "ProgressStyleModel",
     "state": {
      "_model_module": "@jupyter-widgets/controls",
      "_model_module_version": "1.5.0",
      "_model_name": "ProgressStyleModel",
      "_view_count": null,
      "_view_module": "@jupyter-widgets/base",
      "_view_module_version": "1.2.0",
      "_view_name": "StyleView",
      "bar_color": null,
      "description_width": "initial"
     }
    },
    "225e5415dfd14d1098b2e71ff77d0980": {
     "model_module": "@jupyter-widgets/controls",
     "model_module_version": "1.5.0",
     "model_name": "HTMLModel",
     "state": {
      "_dom_classes": [],
      "_model_module": "@jupyter-widgets/controls",
      "_model_module_version": "1.5.0",
      "_model_name": "HTMLModel",
      "_view_count": null,
      "_view_module": "@jupyter-widgets/controls",
      "_view_module_version": "1.5.0",
      "_view_name": "HTMLView",
      "description": "",
      "description_tooltip": null,
      "layout": "IPY_MODEL_61834cc3f56040389fb9f36944398962",
      "placeholder": "​",
      "style": "IPY_MODEL_732d18c0d2744b2c9588f97d64a13d8d",
      "value": " 1.04M/1.04M [00:04&lt;00:00, 245kB/s]"
     }
    },
    "332cca52b4f04189a4cb523f08e16ed3": {
     "model_module": "@jupyter-widgets/controls",
     "model_module_version": "1.5.0",
     "model_name": "DescriptionStyleModel",
     "state": {
      "_model_module": "@jupyter-widgets/controls",
      "_model_module_version": "1.5.0",
      "_model_name": "DescriptionStyleModel",
      "_view_count": null,
      "_view_module": "@jupyter-widgets/base",
      "_view_module_version": "1.2.0",
      "_view_name": "StyleView",
      "description_width": ""
     }
    },
    "454ea507163b4c12b49424a056964162": {
     "model_module": "@jupyter-widgets/controls",
     "model_module_version": "1.5.0",
     "model_name": "FloatProgressModel",
     "state": {
      "_dom_classes": [],
      "_model_module": "@jupyter-widgets/controls",
      "_model_module_version": "1.5.0",
      "_model_name": "FloatProgressModel",
      "_view_count": null,
      "_view_module": "@jupyter-widgets/controls",
      "_view_module_version": "1.5.0",
      "_view_name": "ProgressView",
      "bar_style": "success",
      "description": "Downloading: 100%",
      "description_tooltip": null,
      "layout": "IPY_MODEL_0ca6b21ac1654e348a4d25c373bbcc07",
      "max": 1042301,
      "min": 0,
      "orientation": "horizontal",
      "style": "IPY_MODEL_0d14a1a1bf014a38a9038f87d3c0924c",
      "value": 1042301
     }
    },
    "499c277b324e4e0ba98634d497f4df06": {
     "model_module": "@jupyter-widgets/base",
     "model_module_version": "1.2.0",
     "model_name": "LayoutModel",
     "state": {
      "_model_module": "@jupyter-widgets/base",
      "_model_module_version": "1.2.0",
      "_model_name": "LayoutModel",
      "_view_count": null,
      "_view_module": "@jupyter-widgets/base",
      "_view_module_version": "1.2.0",
      "_view_name": "LayoutView",
      "align_content": null,
      "align_items": null,
      "align_self": null,
      "border": null,
      "bottom": null,
      "display": null,
      "flex": null,
      "flex_flow": null,
      "grid_area": null,
      "grid_auto_columns": null,
      "grid_auto_flow": null,
      "grid_auto_rows": null,
      "grid_column": null,
      "grid_gap": null,
      "grid_row": null,
      "grid_template_areas": null,
      "grid_template_columns": null,
      "grid_template_rows": null,
      "height": null,
      "justify_content": null,
      "justify_items": null,
      "left": null,
      "margin": null,
      "max_height": null,
      "max_width": null,
      "min_height": null,
      "min_width": null,
      "object_fit": null,
      "object_position": null,
      "order": null,
      "overflow": null,
      "overflow_x": null,
      "overflow_y": null,
      "padding": null,
      "right": null,
      "top": null,
      "visibility": null,
      "width": null
     }
    },
    "53c0a8e4a55847a8881c1eacaa4722d0": {
     "model_module": "@jupyter-widgets/controls",
     "model_module_version": "1.5.0",
     "model_name": "ProgressStyleModel",
     "state": {
      "_model_module": "@jupyter-widgets/controls",
      "_model_module_version": "1.5.0",
      "_model_name": "ProgressStyleModel",
      "_view_count": null,
      "_view_module": "@jupyter-widgets/base",
      "_view_module_version": "1.2.0",
      "_view_name": "StyleView",
      "bar_color": null,
      "description_width": "initial"
     }
    },
    "575aa22243174e779c71aa28b9bac74d": {
     "model_module": "@jupyter-widgets/base",
     "model_module_version": "1.2.0",
     "model_name": "LayoutModel",
     "state": {
      "_model_module": "@jupyter-widgets/base",
      "_model_module_version": "1.2.0",
      "_model_name": "LayoutModel",
      "_view_count": null,
      "_view_module": "@jupyter-widgets/base",
      "_view_module_version": "1.2.0",
      "_view_name": "LayoutView",
      "align_content": null,
      "align_items": null,
      "align_self": null,
      "border": null,
      "bottom": null,
      "display": null,
      "flex": null,
      "flex_flow": null,
      "grid_area": null,
      "grid_auto_columns": null,
      "grid_auto_flow": null,
      "grid_auto_rows": null,
      "grid_column": null,
      "grid_gap": null,
      "grid_row": null,
      "grid_template_areas": null,
      "grid_template_columns": null,
      "grid_template_rows": null,
      "height": null,
      "justify_content": null,
      "justify_items": null,
      "left": null,
      "margin": null,
      "max_height": null,
      "max_width": null,
      "min_height": null,
      "min_width": null,
      "object_fit": null,
      "object_position": null,
      "order": null,
      "overflow": null,
      "overflow_x": null,
      "overflow_y": null,
      "padding": null,
      "right": null,
      "top": null,
      "visibility": null,
      "width": null
     }
    },
    "58443f9c78fe4a1e85aedc2ddc653fad": {
     "model_module": "@jupyter-widgets/base",
     "model_module_version": "1.2.0",
     "model_name": "LayoutModel",
     "state": {
      "_model_module": "@jupyter-widgets/base",
      "_model_module_version": "1.2.0",
      "_model_name": "LayoutModel",
      "_view_count": null,
      "_view_module": "@jupyter-widgets/base",
      "_view_module_version": "1.2.0",
      "_view_name": "LayoutView",
      "align_content": null,
      "align_items": null,
      "align_self": null,
      "border": null,
      "bottom": null,
      "display": null,
      "flex": null,
      "flex_flow": null,
      "grid_area": null,
      "grid_auto_columns": null,
      "grid_auto_flow": null,
      "grid_auto_rows": null,
      "grid_column": null,
      "grid_gap": null,
      "grid_row": null,
      "grid_template_areas": null,
      "grid_template_columns": null,
      "grid_template_rows": null,
      "height": null,
      "justify_content": null,
      "justify_items": null,
      "left": null,
      "margin": null,
      "max_height": null,
      "max_width": null,
      "min_height": null,
      "min_width": null,
      "object_fit": null,
      "object_position": null,
      "order": null,
      "overflow": null,
      "overflow_x": null,
      "overflow_y": null,
      "padding": null,
      "right": null,
      "top": null,
      "visibility": null,
      "width": null
     }
    },
    "594e8e93ef9d4b9397d229c6c40dfd81": {
     "model_module": "@jupyter-widgets/controls",
     "model_module_version": "1.5.0",
     "model_name": "HTMLModel",
     "state": {
      "_dom_classes": [],
      "_model_module": "@jupyter-widgets/controls",
      "_model_module_version": "1.5.0",
      "_model_name": "HTMLModel",
      "_view_count": null,
      "_view_module": "@jupyter-widgets/controls",
      "_view_module_version": "1.5.0",
      "_view_name": "HTMLView",
      "description": "",
      "description_tooltip": null,
      "layout": "IPY_MODEL_634e6267ba934ff3bf2f323dcbc7d800",
      "placeholder": "​",
      "style": "IPY_MODEL_dab1c1b961aa42fd9d69edfecb274f2f",
      "value": " 1.36M/1.36M [00:01&lt;00:00, 1.12MB/s]"
     }
    },
    "61427190c8864c3b9548097be44d7585": {
     "model_module": "@jupyter-widgets/controls",
     "model_module_version": "1.5.0",
     "model_name": "HBoxModel",
     "state": {
      "_dom_classes": [],
      "_model_module": "@jupyter-widgets/controls",
      "_model_module_version": "1.5.0",
      "_model_name": "HBoxModel",
      "_view_count": null,
      "_view_module": "@jupyter-widgets/controls",
      "_view_module_version": "1.5.0",
      "_view_name": "HBoxView",
      "box_style": "",
      "children": [
       "IPY_MODEL_f8b9f2d7a4c745a79655751a3fdc239e",
       "IPY_MODEL_67b9abc9043242d4ac94aceb7ecdeff9"
      ],
      "layout": "IPY_MODEL_58443f9c78fe4a1e85aedc2ddc653fad"
     }
    },
    "61834cc3f56040389fb9f36944398962": {
     "model_module": "@jupyter-widgets/base",
     "model_module_version": "1.2.0",
     "model_name": "LayoutModel",
     "state": {
      "_model_module": "@jupyter-widgets/base",
      "_model_module_version": "1.2.0",
      "_model_name": "LayoutModel",
      "_view_count": null,
      "_view_module": "@jupyter-widgets/base",
      "_view_module_version": "1.2.0",
      "_view_name": "LayoutView",
      "align_content": null,
      "align_items": null,
      "align_self": null,
      "border": null,
      "bottom": null,
      "display": null,
      "flex": null,
      "flex_flow": null,
      "grid_area": null,
      "grid_auto_columns": null,
      "grid_auto_flow": null,
      "grid_auto_rows": null,
      "grid_column": null,
      "grid_gap": null,
      "grid_row": null,
      "grid_template_areas": null,
      "grid_template_columns": null,
      "grid_template_rows": null,
      "height": null,
      "justify_content": null,
      "justify_items": null,
      "left": null,
      "margin": null,
      "max_height": null,
      "max_width": null,
      "min_height": null,
      "min_width": null,
      "object_fit": null,
      "object_position": null,
      "order": null,
      "overflow": null,
      "overflow_x": null,
      "overflow_y": null,
      "padding": null,
      "right": null,
      "top": null,
      "visibility": null,
      "width": null
     }
    },
    "62492089fdef4505beb0d5e4c6224af5": {
     "model_module": "@jupyter-widgets/controls",
     "model_module_version": "1.5.0",
     "model_name": "HBoxModel",
     "state": {
      "_dom_classes": [],
      "_model_module": "@jupyter-widgets/controls",
      "_model_module_version": "1.5.0",
      "_model_name": "HBoxModel",
      "_view_count": null,
      "_view_module": "@jupyter-widgets/controls",
      "_view_module_version": "1.5.0",
      "_view_name": "HBoxView",
      "box_style": "",
      "children": [
       "IPY_MODEL_454ea507163b4c12b49424a056964162",
       "IPY_MODEL_225e5415dfd14d1098b2e71ff77d0980"
      ],
      "layout": "IPY_MODEL_ae6450b88aa44364864eeaebd5a54503"
     }
    },
    "628a07bdb96547f1b1ce9d221e785c40": {
     "model_module": "@jupyter-widgets/controls",
     "model_module_version": "1.5.0",
     "model_name": "HTMLModel",
     "state": {
      "_dom_classes": [],
      "_model_module": "@jupyter-widgets/controls",
      "_model_module_version": "1.5.0",
      "_model_name": "HTMLModel",
      "_view_count": null,
      "_view_module": "@jupyter-widgets/controls",
      "_view_module_version": "1.5.0",
      "_view_name": "HTMLView",
      "description": "",
      "description_tooltip": null,
      "layout": "IPY_MODEL_97d5f1043cbd44cc9bf2d1658e25651e",
      "placeholder": "​",
      "style": "IPY_MODEL_332cca52b4f04189a4cb523f08e16ed3",
      "value": " 665/665 [00:00&lt;00:00, 4.82kB/s]"
     }
    },
    "634e6267ba934ff3bf2f323dcbc7d800": {
     "model_module": "@jupyter-widgets/base",
     "model_module_version": "1.2.0",
     "model_name": "LayoutModel",
     "state": {
      "_model_module": "@jupyter-widgets/base",
      "_model_module_version": "1.2.0",
      "_model_name": "LayoutModel",
      "_view_count": null,
      "_view_module": "@jupyter-widgets/base",
      "_view_module_version": "1.2.0",
      "_view_name": "LayoutView",
      "align_content": null,
      "align_items": null,
      "align_self": null,
      "border": null,
      "bottom": null,
      "display": null,
      "flex": null,
      "flex_flow": null,
      "grid_area": null,
      "grid_auto_columns": null,
      "grid_auto_flow": null,
      "grid_auto_rows": null,
      "grid_column": null,
      "grid_gap": null,
      "grid_row": null,
      "grid_template_areas": null,
      "grid_template_columns": null,
      "grid_template_rows": null,
      "height": null,
      "justify_content": null,
      "justify_items": null,
      "left": null,
      "margin": null,
      "max_height": null,
      "max_width": null,
      "min_height": null,
      "min_width": null,
      "object_fit": null,
      "object_position": null,
      "order": null,
      "overflow": null,
      "overflow_x": null,
      "overflow_y": null,
      "padding": null,
      "right": null,
      "top": null,
      "visibility": null,
      "width": null
     }
    },
    "67b9abc9043242d4ac94aceb7ecdeff9": {
     "model_module": "@jupyter-widgets/controls",
     "model_module_version": "1.5.0",
     "model_name": "HTMLModel",
     "state": {
      "_dom_classes": [],
      "_model_module": "@jupyter-widgets/controls",
      "_model_module_version": "1.5.0",
      "_model_name": "HTMLModel",
      "_view_count": null,
      "_view_module": "@jupyter-widgets/controls",
      "_view_module_version": "1.5.0",
      "_view_name": "HTMLView",
      "description": "",
      "description_tooltip": null,
      "layout": "IPY_MODEL_91a80c2167ed476c964777706db16a88",
      "placeholder": "​",
      "style": "IPY_MODEL_801e50b70aa34233930d00a4e9c37981",
      "value": " 498M/498M [00:14&lt;00:00, 33.6MB/s]"
     }
    },
    "6ae2aea27d56418e9499832a5eb1d633": {
     "model_module": "@jupyter-widgets/base",
     "model_module_version": "1.2.0",
     "model_name": "LayoutModel",
     "state": {
      "_model_module": "@jupyter-widgets/base",
      "_model_module_version": "1.2.0",
      "_model_name": "LayoutModel",
      "_view_count": null,
      "_view_module": "@jupyter-widgets/base",
      "_view_module_version": "1.2.0",
      "_view_name": "LayoutView",
      "align_content": null,
      "align_items": null,
      "align_self": null,
      "border": null,
      "bottom": null,
      "display": null,
      "flex": null,
      "flex_flow": null,
      "grid_area": null,
      "grid_auto_columns": null,
      "grid_auto_flow": null,
      "grid_auto_rows": null,
      "grid_column": null,
      "grid_gap": null,
      "grid_row": null,
      "grid_template_areas": null,
      "grid_template_columns": null,
      "grid_template_rows": null,
      "height": null,
      "justify_content": null,
      "justify_items": null,
      "left": null,
      "margin": null,
      "max_height": null,
      "max_width": null,
      "min_height": null,
      "min_width": null,
      "object_fit": null,
      "object_position": null,
      "order": null,
      "overflow": null,
      "overflow_x": null,
      "overflow_y": null,
      "padding": null,
      "right": null,
      "top": null,
      "visibility": null,
      "width": null
     }
    },
    "6ee473cd829949ba8047a0f75d3153f4": {
     "model_module": "@jupyter-widgets/controls",
     "model_module_version": "1.5.0",
     "model_name": "FloatProgressModel",
     "state": {
      "_dom_classes": [],
      "_model_module": "@jupyter-widgets/controls",
      "_model_module_version": "1.5.0",
      "_model_name": "FloatProgressModel",
      "_view_count": null,
      "_view_module": "@jupyter-widgets/controls",
      "_view_module_version": "1.5.0",
      "_view_name": "ProgressView",
      "bar_style": "success",
      "description": "Downloading: 100%",
      "description_tooltip": null,
      "layout": "IPY_MODEL_575aa22243174e779c71aa28b9bac74d",
      "max": 665,
      "min": 0,
      "orientation": "horizontal",
      "style": "IPY_MODEL_c1845b172bc349cea78028725ed19252",
      "value": 665
     }
    },
    "732d18c0d2744b2c9588f97d64a13d8d": {
     "model_module": "@jupyter-widgets/controls",
     "model_module_version": "1.5.0",
     "model_name": "DescriptionStyleModel",
     "state": {
      "_model_module": "@jupyter-widgets/controls",
      "_model_module_version": "1.5.0",
      "_model_name": "DescriptionStyleModel",
      "_view_count": null,
      "_view_module": "@jupyter-widgets/base",
      "_view_module_version": "1.2.0",
      "_view_name": "StyleView",
      "description_width": ""
     }
    },
    "801e50b70aa34233930d00a4e9c37981": {
     "model_module": "@jupyter-widgets/controls",
     "model_module_version": "1.5.0",
     "model_name": "DescriptionStyleModel",
     "state": {
      "_model_module": "@jupyter-widgets/controls",
      "_model_module_version": "1.5.0",
      "_model_name": "DescriptionStyleModel",
      "_view_count": null,
      "_view_module": "@jupyter-widgets/base",
      "_view_module_version": "1.2.0",
      "_view_name": "StyleView",
      "description_width": ""
     }
    },
    "8555a556285847ca949b0be4ee2dbf4d": {
     "model_module": "@jupyter-widgets/controls",
     "model_module_version": "1.5.0",
     "model_name": "HBoxModel",
     "state": {
      "_dom_classes": [],
      "_model_module": "@jupyter-widgets/controls",
      "_model_module_version": "1.5.0",
      "_model_name": "HBoxModel",
      "_view_count": null,
      "_view_module": "@jupyter-widgets/controls",
      "_view_module_version": "1.5.0",
      "_view_name": "HBoxView",
      "box_style": "",
      "children": [
       "IPY_MODEL_6ee473cd829949ba8047a0f75d3153f4",
       "IPY_MODEL_628a07bdb96547f1b1ce9d221e785c40"
      ],
      "layout": "IPY_MODEL_499c277b324e4e0ba98634d497f4df06"
     }
    },
    "8e98b7dfa0c8434981aa267b6a3bf3ae": {
     "model_module": "@jupyter-widgets/controls",
     "model_module_version": "1.5.0",
     "model_name": "ProgressStyleModel",
     "state": {
      "_model_module": "@jupyter-widgets/controls",
      "_model_module_version": "1.5.0",
      "_model_name": "ProgressStyleModel",
      "_view_count": null,
      "_view_module": "@jupyter-widgets/base",
      "_view_module_version": "1.2.0",
      "_view_name": "StyleView",
      "bar_color": null,
      "description_width": "initial"
     }
    },
    "91a80c2167ed476c964777706db16a88": {
     "model_module": "@jupyter-widgets/base",
     "model_module_version": "1.2.0",
     "model_name": "LayoutModel",
     "state": {
      "_model_module": "@jupyter-widgets/base",
      "_model_module_version": "1.2.0",
      "_model_name": "LayoutModel",
      "_view_count": null,
      "_view_module": "@jupyter-widgets/base",
      "_view_module_version": "1.2.0",
      "_view_name": "LayoutView",
      "align_content": null,
      "align_items": null,
      "align_self": null,
      "border": null,
      "bottom": null,
      "display": null,
      "flex": null,
      "flex_flow": null,
      "grid_area": null,
      "grid_auto_columns": null,
      "grid_auto_flow": null,
      "grid_auto_rows": null,
      "grid_column": null,
      "grid_gap": null,
      "grid_row": null,
      "grid_template_areas": null,
      "grid_template_columns": null,
      "grid_template_rows": null,
      "height": null,
      "justify_content": null,
      "justify_items": null,
      "left": null,
      "margin": null,
      "max_height": null,
      "max_width": null,
      "min_height": null,
      "min_width": null,
      "object_fit": null,
      "object_position": null,
      "order": null,
      "overflow": null,
      "overflow_x": null,
      "overflow_y": null,
      "padding": null,
      "right": null,
      "top": null,
      "visibility": null,
      "width": null
     }
    },
    "97d5f1043cbd44cc9bf2d1658e25651e": {
     "model_module": "@jupyter-widgets/base",
     "model_module_version": "1.2.0",
     "model_name": "LayoutModel",
     "state": {
      "_model_module": "@jupyter-widgets/base",
      "_model_module_version": "1.2.0",
      "_model_name": "LayoutModel",
      "_view_count": null,
      "_view_module": "@jupyter-widgets/base",
      "_view_module_version": "1.2.0",
      "_view_name": "LayoutView",
      "align_content": null,
      "align_items": null,
      "align_self": null,
      "border": null,
      "bottom": null,
      "display": null,
      "flex": null,
      "flex_flow": null,
      "grid_area": null,
      "grid_auto_columns": null,
      "grid_auto_flow": null,
      "grid_auto_rows": null,
      "grid_column": null,
      "grid_gap": null,
      "grid_row": null,
      "grid_template_areas": null,
      "grid_template_columns": null,
      "grid_template_rows": null,
      "height": null,
      "justify_content": null,
      "justify_items": null,
      "left": null,
      "margin": null,
      "max_height": null,
      "max_width": null,
      "min_height": null,
      "min_width": null,
      "object_fit": null,
      "object_position": null,
      "order": null,
      "overflow": null,
      "overflow_x": null,
      "overflow_y": null,
      "padding": null,
      "right": null,
      "top": null,
      "visibility": null,
      "width": null
     }
    },
    "9f05cfbf37e743de96db9aecbb63e35c": {
     "model_module": "@jupyter-widgets/controls",
     "model_module_version": "1.5.0",
     "model_name": "ProgressStyleModel",
     "state": {
      "_model_module": "@jupyter-widgets/controls",
      "_model_module_version": "1.5.0",
      "_model_name": "ProgressStyleModel",
      "_view_count": null,
      "_view_module": "@jupyter-widgets/base",
      "_view_module_version": "1.2.0",
      "_view_name": "StyleView",
      "bar_color": null,
      "description_width": "initial"
     }
    },
    "a1a1b6edd7ac456f99d18c3be274b423": {
     "model_module": "@jupyter-widgets/controls",
     "model_module_version": "1.5.0",
     "model_name": "DescriptionStyleModel",
     "state": {
      "_model_module": "@jupyter-widgets/controls",
      "_model_module_version": "1.5.0",
      "_model_name": "DescriptionStyleModel",
      "_view_count": null,
      "_view_module": "@jupyter-widgets/base",
      "_view_module_version": "1.2.0",
      "_view_name": "StyleView",
      "description_width": ""
     }
    },
    "ad7768b0e25e4398951b592fff793600": {
     "model_module": "@jupyter-widgets/base",
     "model_module_version": "1.2.0",
     "model_name": "LayoutModel",
     "state": {
      "_model_module": "@jupyter-widgets/base",
      "_model_module_version": "1.2.0",
      "_model_name": "LayoutModel",
      "_view_count": null,
      "_view_module": "@jupyter-widgets/base",
      "_view_module_version": "1.2.0",
      "_view_name": "LayoutView",
      "align_content": null,
      "align_items": null,
      "align_self": null,
      "border": null,
      "bottom": null,
      "display": null,
      "flex": null,
      "flex_flow": null,
      "grid_area": null,
      "grid_auto_columns": null,
      "grid_auto_flow": null,
      "grid_auto_rows": null,
      "grid_column": null,
      "grid_gap": null,
      "grid_row": null,
      "grid_template_areas": null,
      "grid_template_columns": null,
      "grid_template_rows": null,
      "height": null,
      "justify_content": null,
      "justify_items": null,
      "left": null,
      "margin": null,
      "max_height": null,
      "max_width": null,
      "min_height": null,
      "min_width": null,
      "object_fit": null,
      "object_position": null,
      "order": null,
      "overflow": null,
      "overflow_x": null,
      "overflow_y": null,
      "padding": null,
      "right": null,
      "top": null,
      "visibility": null,
      "width": null
     }
    },
    "ae6450b88aa44364864eeaebd5a54503": {
     "model_module": "@jupyter-widgets/base",
     "model_module_version": "1.2.0",
     "model_name": "LayoutModel",
     "state": {
      "_model_module": "@jupyter-widgets/base",
      "_model_module_version": "1.2.0",
      "_model_name": "LayoutModel",
      "_view_count": null,
      "_view_module": "@jupyter-widgets/base",
      "_view_module_version": "1.2.0",
      "_view_name": "LayoutView",
      "align_content": null,
      "align_items": null,
      "align_self": null,
      "border": null,
      "bottom": null,
      "display": null,
      "flex": null,
      "flex_flow": null,
      "grid_area": null,
      "grid_auto_columns": null,
      "grid_auto_flow": null,
      "grid_auto_rows": null,
      "grid_column": null,
      "grid_gap": null,
      "grid_row": null,
      "grid_template_areas": null,
      "grid_template_columns": null,
      "grid_template_rows": null,
      "height": null,
      "justify_content": null,
      "justify_items": null,
      "left": null,
      "margin": null,
      "max_height": null,
      "max_width": null,
      "min_height": null,
      "min_width": null,
      "object_fit": null,
      "object_position": null,
      "order": null,
      "overflow": null,
      "overflow_x": null,
      "overflow_y": null,
      "padding": null,
      "right": null,
      "top": null,
      "visibility": null,
      "width": null
     }
    },
    "b281ad054f8949fa8b5de36a31862356": {
     "model_module": "@jupyter-widgets/base",
     "model_module_version": "1.2.0",
     "model_name": "LayoutModel",
     "state": {
      "_model_module": "@jupyter-widgets/base",
      "_model_module_version": "1.2.0",
      "_model_name": "LayoutModel",
      "_view_count": null,
      "_view_module": "@jupyter-widgets/base",
      "_view_module_version": "1.2.0",
      "_view_name": "LayoutView",
      "align_content": null,
      "align_items": null,
      "align_self": null,
      "border": null,
      "bottom": null,
      "display": null,
      "flex": null,
      "flex_flow": null,
      "grid_area": null,
      "grid_auto_columns": null,
      "grid_auto_flow": null,
      "grid_auto_rows": null,
      "grid_column": null,
      "grid_gap": null,
      "grid_row": null,
      "grid_template_areas": null,
      "grid_template_columns": null,
      "grid_template_rows": null,
      "height": null,
      "justify_content": null,
      "justify_items": null,
      "left": null,
      "margin": null,
      "max_height": null,
      "max_width": null,
      "min_height": null,
      "min_width": null,
      "object_fit": null,
      "object_position": null,
      "order": null,
      "overflow": null,
      "overflow_x": null,
      "overflow_y": null,
      "padding": null,
      "right": null,
      "top": null,
      "visibility": null,
      "width": null
     }
    },
    "c16bae0abb074c519323da6336d96025": {
     "model_module": "@jupyter-widgets/controls",
     "model_module_version": "1.5.0",
     "model_name": "HBoxModel",
     "state": {
      "_dom_classes": [],
      "_model_module": "@jupyter-widgets/controls",
      "_model_module_version": "1.5.0",
      "_model_name": "HBoxModel",
      "_view_count": null,
      "_view_module": "@jupyter-widgets/controls",
      "_view_module_version": "1.5.0",
      "_view_name": "HBoxView",
      "box_style": "",
      "children": [
       "IPY_MODEL_0c23b64bc55a421da5fb09ea3b67e53b",
       "IPY_MODEL_594e8e93ef9d4b9397d229c6c40dfd81"
      ],
      "layout": "IPY_MODEL_e8de0b2c41d34e58bcdd4243e8b6f9be"
     }
    },
    "c1845b172bc349cea78028725ed19252": {
     "model_module": "@jupyter-widgets/controls",
     "model_module_version": "1.5.0",
     "model_name": "ProgressStyleModel",
     "state": {
      "_model_module": "@jupyter-widgets/controls",
      "_model_module_version": "1.5.0",
      "_model_name": "ProgressStyleModel",
      "_view_count": null,
      "_view_module": "@jupyter-widgets/base",
      "_view_module_version": "1.2.0",
      "_view_name": "StyleView",
      "bar_color": null,
      "description_width": "initial"
     }
    },
    "d7451dc56f364b4f927f242ccfe0e91b": {
     "model_module": "@jupyter-widgets/base",
     "model_module_version": "1.2.0",
     "model_name": "LayoutModel",
     "state": {
      "_model_module": "@jupyter-widgets/base",
      "_model_module_version": "1.2.0",
      "_model_name": "LayoutModel",
      "_view_count": null,
      "_view_module": "@jupyter-widgets/base",
      "_view_module_version": "1.2.0",
      "_view_name": "LayoutView",
      "align_content": null,
      "align_items": null,
      "align_self": null,
      "border": null,
      "bottom": null,
      "display": null,
      "flex": null,
      "flex_flow": null,
      "grid_area": null,
      "grid_auto_columns": null,
      "grid_auto_flow": null,
      "grid_auto_rows": null,
      "grid_column": null,
      "grid_gap": null,
      "grid_row": null,
      "grid_template_areas": null,
      "grid_template_columns": null,
      "grid_template_rows": null,
      "height": null,
      "justify_content": null,
      "justify_items": null,
      "left": null,
      "margin": null,
      "max_height": null,
      "max_width": null,
      "min_height": null,
      "min_width": null,
      "object_fit": null,
      "object_position": null,
      "order": null,
      "overflow": null,
      "overflow_x": null,
      "overflow_y": null,
      "padding": null,
      "right": null,
      "top": null,
      "visibility": null,
      "width": null
     }
    },
    "dab1c1b961aa42fd9d69edfecb274f2f": {
     "model_module": "@jupyter-widgets/controls",
     "model_module_version": "1.5.0",
     "model_name": "DescriptionStyleModel",
     "state": {
      "_model_module": "@jupyter-widgets/controls",
      "_model_module_version": "1.5.0",
      "_model_name": "DescriptionStyleModel",
      "_view_count": null,
      "_view_module": "@jupyter-widgets/base",
      "_view_module_version": "1.2.0",
      "_view_name": "StyleView",
      "description_width": ""
     }
    },
    "dc27f67a6a8744118924462867444ef2": {
     "model_module": "@jupyter-widgets/controls",
     "model_module_version": "1.5.0",
     "model_name": "FloatProgressModel",
     "state": {
      "_dom_classes": [],
      "_model_module": "@jupyter-widgets/controls",
      "_model_module_version": "1.5.0",
      "_model_name": "FloatProgressModel",
      "_view_count": null,
      "_view_module": "@jupyter-widgets/controls",
      "_view_module_version": "1.5.0",
      "_view_name": "ProgressView",
      "bar_style": "success",
      "description": "Downloading: 100%",
      "description_tooltip": null,
      "layout": "IPY_MODEL_d7451dc56f364b4f927f242ccfe0e91b",
      "max": 456318,
      "min": 0,
      "orientation": "horizontal",
      "style": "IPY_MODEL_53c0a8e4a55847a8881c1eacaa4722d0",
      "value": 456318
     }
    },
    "e8de0b2c41d34e58bcdd4243e8b6f9be": {
     "model_module": "@jupyter-widgets/base",
     "model_module_version": "1.2.0",
     "model_name": "LayoutModel",
     "state": {
      "_model_module": "@jupyter-widgets/base",
      "_model_module_version": "1.2.0",
      "_model_name": "LayoutModel",
      "_view_count": null,
      "_view_module": "@jupyter-widgets/base",
      "_view_module_version": "1.2.0",
      "_view_name": "LayoutView",
      "align_content": null,
      "align_items": null,
      "align_self": null,
      "border": null,
      "bottom": null,
      "display": null,
      "flex": null,
      "flex_flow": null,
      "grid_area": null,
      "grid_auto_columns": null,
      "grid_auto_flow": null,
      "grid_auto_rows": null,
      "grid_column": null,
      "grid_gap": null,
      "grid_row": null,
      "grid_template_areas": null,
      "grid_template_columns": null,
      "grid_template_rows": null,
      "height": null,
      "justify_content": null,
      "justify_items": null,
      "left": null,
      "margin": null,
      "max_height": null,
      "max_width": null,
      "min_height": null,
      "min_width": null,
      "object_fit": null,
      "object_position": null,
      "order": null,
      "overflow": null,
      "overflow_x": null,
      "overflow_y": null,
      "padding": null,
      "right": null,
      "top": null,
      "visibility": null,
      "width": null
     }
    },
    "ebcd7cab16614cc488651f4164fd70a8": {
     "model_module": "@jupyter-widgets/controls",
     "model_module_version": "1.5.0",
     "model_name": "HBoxModel",
     "state": {
      "_dom_classes": [],
      "_model_module": "@jupyter-widgets/controls",
      "_model_module_version": "1.5.0",
      "_model_name": "HBoxModel",
      "_view_count": null,
      "_view_module": "@jupyter-widgets/controls",
      "_view_module_version": "1.5.0",
      "_view_name": "HBoxView",
      "box_style": "",
      "children": [
       "IPY_MODEL_dc27f67a6a8744118924462867444ef2",
       "IPY_MODEL_06455e2e413b40d4be960bd755cdfaa0"
      ],
      "layout": "IPY_MODEL_b281ad054f8949fa8b5de36a31862356"
     }
    },
    "f8b9f2d7a4c745a79655751a3fdc239e": {
     "model_module": "@jupyter-widgets/controls",
     "model_module_version": "1.5.0",
     "model_name": "FloatProgressModel",
     "state": {
      "_dom_classes": [],
      "_model_module": "@jupyter-widgets/controls",
      "_model_module_version": "1.5.0",
      "_model_name": "FloatProgressModel",
      "_view_count": null,
      "_view_module": "@jupyter-widgets/controls",
      "_view_module_version": "1.5.0",
      "_view_name": "ProgressView",
      "bar_style": "success",
      "description": "Downloading: 100%",
      "description_tooltip": null,
      "layout": "IPY_MODEL_ad7768b0e25e4398951b592fff793600",
      "max": 497933648,
      "min": 0,
      "orientation": "horizontal",
      "style": "IPY_MODEL_9f05cfbf37e743de96db9aecbb63e35c",
      "value": 497933648
     }
    },
    "fb2d8cc778484fdca1bb51aa2a4900bd": {
     "model_module": "@jupyter-widgets/base",
     "model_module_version": "1.2.0",
     "model_name": "LayoutModel",
     "state": {
      "_model_module": "@jupyter-widgets/base",
      "_model_module_version": "1.2.0",
      "_model_name": "LayoutModel",
      "_view_count": null,
      "_view_module": "@jupyter-widgets/base",
      "_view_module_version": "1.2.0",
      "_view_name": "LayoutView",
      "align_content": null,
      "align_items": null,
      "align_self": null,
      "border": null,
      "bottom": null,
      "display": null,
      "flex": null,
      "flex_flow": null,
      "grid_area": null,
      "grid_auto_columns": null,
      "grid_auto_flow": null,
      "grid_auto_rows": null,
      "grid_column": null,
      "grid_gap": null,
      "grid_row": null,
      "grid_template_areas": null,
      "grid_template_columns": null,
      "grid_template_rows": null,
      "height": null,
      "justify_content": null,
      "justify_items": null,
      "left": null,
      "margin": null,
      "max_height": null,
      "max_width": null,
      "min_height": null,
      "min_width": null,
      "object_fit": null,
      "object_position": null,
      "order": null,
      "overflow": null,
      "overflow_x": null,
      "overflow_y": null,
      "padding": null,
      "right": null,
      "top": null,
      "visibility": null,
      "width": null
     }
    }
   }
  }
 },
 "nbformat": 4,
 "nbformat_minor": 1
}
